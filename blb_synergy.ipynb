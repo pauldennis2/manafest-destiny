{
 "cells": [
  {
   "cell_type": "markdown",
   "id": "99c71f30",
   "metadata": {},
   "source": [
    "# Synergy - This Time We're Serious"
   ]
  },
  {
   "cell_type": "code",
   "execution_count": null,
   "id": "efa24f28",
   "metadata": {},
   "outputs": [],
   "source": [
    "from collections import defaultdict\n",
    "from itertools import combinations"
   ]
  },
  {
   "cell_type": "code",
   "execution_count": null,
   "id": "1161365f",
   "metadata": {},
   "outputs": [],
   "source": [
    "# Pre-filter column names\n",
    "draw_columns = [col for col in games_df.columns if col.startswith(\"drawn_\") or col.startswith(\"opening_hand_\")]\n",
    "\n",
    "def extract_drawn_cards(row):\n",
    "    draft_id = row[\"draft_id\"]\n",
    "    seen_cards = set()\n",
    "    won = int(row[\"won\"])  # Convert to 1/0 without modifying games_df\n",
    "\n",
    "    for col in draw_columns:\n",
    "        if row[col] > 0:  # First check is cheap\n",
    "            if col.startswith(\"drawn_\"):\n",
    "                card_name = col.split(\"_\", 1)[1]\n",
    "            elif col.startswith(\"opening_hand_\"):\n",
    "                card_name = col.split(\"_\", 2)[2]\n",
    "            else:\n",
    "                continue  # Skip non-relevant columns\n",
    "\n",
    "            if card_name not in basic_lands:  # Secondary check\n",
    "                seen_cards.add(card_name)\n",
    "\n",
    "    return draft_id, seen_cards, won\n",
    "\n",
    "# Apply function to create final draws_df\n",
    "draws_data = [extract_drawn_cards(row) for _, row in games_df.iterrows()]\n",
    "draws_df = pd.DataFrame(draws_data, columns=[\"draft_id\", \"seen_cards\", \"won\"])\n",
    "#TODO change this to check for parquet first\n",
    "draws_df = pd.read_parquet(\"draws_data.parquet\")\n",
    "#draws_df.to_parquet(\"draws_data.parquet\", index=False)\n"
   ]
  },
  {
   "cell_type": "code",
   "execution_count": null,
   "id": "f1b16a0e",
   "metadata": {},
   "outputs": [],
   "source": [
    "# Get unique card names\n",
    "all_cards = sorted({card for cards in draws_df[\"seen_cards\"] for card in cards})\n",
    "valid_cards = set(cards_df['name'].tolist())\n",
    "# Create a MultiIndex for the synergy table\n",
    "index = pd.MultiIndex.from_tuples([(card1, card2) for card1 in all_cards for card2 in all_cards if card1 != card2])\n",
    "\n",
    "# Initialize the DataFrame with (win count, total games count) tuples\n",
    "synergy_table = pd.DataFrame(index=index, columns=[\"wins_together\", \"games_together\"]).fillna(0)\n",
    "\n",
    "synergy_table.head() # empty, just to see structure"
   ]
  },
  {
   "cell_type": "code",
   "execution_count": null,
   "id": "f756daa4",
   "metadata": {},
   "outputs": [],
   "source": [
    "# Initialize synergy tracking\n",
    "synergy_dict = defaultdict(lambda: [0, 0])  # { (card1, card2): [games_together, wins_together] }\n",
    "\n",
    "def update_synergy_dict(row):\n",
    "    \"\"\"Efficiently accumulates synergy counts using a dictionary instead of direct DataFrame operations.\"\"\"\n",
    "    seen_cards = row[\"seen_cards\"]\n",
    "    won_game = row[\"won\"]  # 1 for win, 0 for loss\n",
    "\n",
    "    # Process all unique card pairs\n",
    "    for card1, card2 in combinations(seen_cards, 2):\n",
    "        synergy_dict[(card1, card2)][0] += 1  # Increment games_together\n",
    "        synergy_dict[(card1, card2)][1] += won_game  # Increment wins_together if won\n",
    "\n",
    "# Apply the function efficiently\n",
    "draws_df.apply(update_synergy_dict, axis=1)\n",
    "\n",
    "# Convert accumulated dictionary to DataFrame (fast batch conversion)\n",
    "synergy_table = pd.DataFrame.from_dict(synergy_dict, orient=\"index\", columns=[\"games_together\", \"wins_together\"])\n",
    "synergy_table.index = pd.MultiIndex.from_tuples(synergy_table.index, names=[\"card1\", \"card2\"])\n",
    "synergy_table[\"win_rate\"] = synergy_table[\"wins_together\"] / synergy_table[\"games_together\"]\n",
    "synergy_table.sort_values(by=\"win_rate\", ascending=False).head(10)"
   ]
  },
  {
   "cell_type": "code",
   "execution_count": null,
   "id": "fa3797c9",
   "metadata": {},
   "outputs": [],
   "source": [
    "synergy_table_filtered = synergy_table[synergy_table[\"games_together\"] >= 10]\n",
    "synergy_table_filtered.shape\n",
    "synergy_table_filtered.to_csv(\"synergy_table.csv\", index=True)\n",
    "synergy_table_filtered.to_parquet(\"synergy_table.parquet\", index=True)\n",
    "\n",
    "synergy_table_filtered.sort_values(by=\"win_rate\", ascending=False).head(10)"
   ]
  },
  {
   "cell_type": "markdown",
   "id": "e0a29e24",
   "metadata": {},
   "source": [
    "Some of these are probably just examples of \"both of these cards are good/somewhat rare, and if you drew them both it's likely a win\" even if they don't particuarly synergize. But some of these do make sense. Nocturnal Hunger + Ral allows you to get rid of something that might kill your planeswalker AND it boosts him. Fountainport generates blockers to keep Ral alive. \n",
    "\n",
    "But then some of these are just bizarre. Thornplate Intimidator and Shore Up? Neither are great individually, and they have no obvious synergy.\n",
    "\n",
    "I'm thinking that if we raise the threshold any higher we do start losing some potential synergies. "
   ]
  },
  {
   "cell_type": "code",
   "execution_count": null,
   "id": "b0d7d3ee",
   "metadata": {},
   "outputs": [],
   "source": [
    "plt.figure(figsize=(10, 6))\n",
    "plt.hist(synergy_table_filtered[\"games_together\"], bins=50, edgecolor=\"black\")\n",
    "plt.xlabel(\"Games Together\")\n",
    "plt.ylabel(\"Frequency\")\n",
    "plt.title(\"Distribution of Games_Together\")\n",
    "plt.yscale(\"log\")  # Log scale to highlight tail distributions\n",
    "plt.show()\n"
   ]
  },
  {
   "cell_type": "code",
   "execution_count": null,
   "id": "c954fd3a",
   "metadata": {},
   "outputs": [],
   "source": [
    "synergy_table_filtered.sort_values(by=\"wins_together\", ascending=False).head(10)"
   ]
  },
  {
   "cell_type": "code",
   "execution_count": null,
   "id": "e2af4960",
   "metadata": {},
   "outputs": [],
   "source": [
    "#TODO we can probably remove this\n",
    "\n",
    "# Sample 20 random rows\n",
    "sampled_synergies = synergy_table_filtered.sample(20, random_state=42)\n",
    "\n",
    "# Compute and print results\n",
    "for (card1, card2), row in sampled_synergies.iterrows():\n",
    "    card1_wr = gp_wr_map.get(card1, np.nan)  # Default to NaN if missing\n",
    "    card2_wr = gp_wr_map.get(card2, np.nan)\n",
    "    pair_wr = row[\"win_rate\"]\n",
    "\n",
    "    # Calculate synergy strength only if both individual win rates exist\n",
    "    if np.isnan(card1_wr) or np.isnan(card2_wr):\n",
    "        synergy_strength = np.nan\n",
    "    else:\n",
    "        expected_wr = (card1_wr + card2_wr) / 2\n",
    "        synergy_strength = pair_wr - expected_wr\n",
    "\n",
    "    print(f\"{card1} + {card2}: Pair WR = {pair_wr:.3f}, C1WR = {card1_wr:.3f}, C2WR = {card2_wr:.3f}, SynStr = {synergy_strength:.3f}, Seen={row['games_together']}\")\n"
   ]
  },
  {
   "cell_type": "code",
   "execution_count": null,
   "id": "dbca6219",
   "metadata": {},
   "outputs": [],
   "source": [
    "def synergy_score(row, gp_wr_map):\n",
    "    \"\"\"Calculates synergy strength and applies frequency-based adjustments.\"\"\"\n",
    "    \n",
    "    card1, card2 = row.name  # Extract card pair from MultiIndex\n",
    "    games_together = row[\"games_together\"]\n",
    "    pair_wr = row[\"win_rate\"]\n",
    "\n",
    "    # Get individual card win rates\n",
    "    card1_wr = gp_wr_map.get(card1, np.nan)\n",
    "    card2_wr = gp_wr_map.get(card2, np.nan)\n",
    "\n",
    "    # Ensure both individual win rates exist\n",
    "    if np.isnan(card1_wr) or np.isnan(card2_wr):\n",
    "        return np.nan  # If either win rate is missing, return NaN\n",
    "\n",
    "    # Calculate synergy strength\n",
    "    expected_wr = (card1_wr + card2_wr) / 2\n",
    "    synergy_strength = pair_wr - expected_wr\n",
    "\n",
    "    # Apply frequency-based scaling\n",
    "    if games_together >= 500:\n",
    "        adjusted_syn_score = synergy_strength  # No change\n",
    "    elif games_together >= 100:\n",
    "        adjusted_syn_score = synergy_strength / 2  # Reduced impact\n",
    "    else:\n",
    "        adjusted_syn_score = np.sqrt(max(synergy_strength, 0) * 100) / 100  # Handle negatives safely\n",
    "\n",
    "    return adjusted_syn_score\n",
    "\n",
    "# Apply function safely\n",
    "synergy_table_filtered.loc[\"synergy_score\"] = synergy_table_filtered.apply(synergy_score, axis=1, args=(gp_wr_map,))\n",
    "synergy_table_filtered.head()\n"
   ]
  },
  {
   "cell_type": "code",
   "execution_count": null,
   "id": "9d370e5a",
   "metadata": {},
   "outputs": [],
   "source": [
    "synergy_table_filtered.sort_values(by=\"synergy_score\", ascending=False).head(10)\n",
    "# Still has a minor issue. If base win rate is 53%, drawing two 65% win rate cards\n",
    "#  probably puts you closer to 75% win rate in a vacuum. Circle back"
   ]
  }
 ],
 "metadata": {
  "kernelspec": {
   "display_name": "win_c0c1",
   "language": "python",
   "name": "python3"
  },
  "language_info": {
   "name": "python",
   "version": "3.12.4"
  }
 },
 "nbformat": 4,
 "nbformat_minor": 5
}
