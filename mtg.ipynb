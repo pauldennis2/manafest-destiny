{
 "cells": [
  {
   "cell_type": "markdown",
   "id": "24529795",
   "metadata": {},
   "source": [
    "## Mana-fest Destiny"
   ]
  },
  {
   "cell_type": "code",
   "execution_count": 5,
   "id": "ba49843f",
   "metadata": {},
   "outputs": [
    {
     "name": "stdout",
     "output_type": "stream",
     "text": [
      "The autoreload extension is already loaded. To reload it, use:\n",
      "  %reload_ext autoreload\n"
     ]
    }
   ],
   "source": [
    "%load_ext autoreload\n",
    "%autoreload 2\n",
    "\n",
    "#Imports\n",
    "import os\n",
    "import pandas as pd\n",
    "import requests"
   ]
  },
  {
   "cell_type": "markdown",
   "id": "80bc0aa8",
   "metadata": {},
   "source": [
    "# Clean Slate wooo"
   ]
  },
  {
   "cell_type": "code",
   "execution_count": 6,
   "id": "1dc2f1be",
   "metadata": {},
   "outputs": [
    {
     "name": "stdout",
     "output_type": "stream",
     "text": [
      "Fetching Bloomburrow card data...\n",
      "Loading Scryfall data for Bloomburrow from existing file...\n",
      "  object                                    id  \\\n",
      "0   card  7dd9946b-515e-4e0d-9da2-711e126e9fa6   \n",
      "1   card  39ebb84a-1c52-4b07-9bd0-b360523b3a5b   \n",
      "2   card  b24c3e9c-2aff-45fd-9c87-3ebd33bbe807   \n",
      "3   card  436d6a84-4cea-4ca7-94aa-9d08280652af   \n",
      "4   card  d3871fe6-e26e-4ab4-bd81-7e3c7b8135c1   \n",
      "\n",
      "                              oracle_id multiverse_ids   mtgo_id  arena_id  \\\n",
      "0  7b89b7d2-c724-4d5d-9f0b-7d3302ad1168       [669036]  129489.0   91658.0   \n",
      "1  381a3e8e-71dd-48e4-ab62-53478bde4a14       [668996]  129409.0   91618.0   \n",
      "2  eb5406e1-c3eb-4434-91f4-308622d3eab4             []       NaN       NaN   \n",
      "3  63d50d5e-56de-44c4-b906-b2a21a56e3f3       [669118]  129653.0   91740.0   \n",
      "4  ce36a450-68a6-4519-a9f0-0e3b772054eb       [669037]  129491.0   91659.0   \n",
      "\n",
      "   tcgplayer_id  cardmarket_id                     name lang  ...  \\\n",
      "0      559491.0       778435.0            Agate Assault   en  ...   \n",
      "1      559647.0       778511.0     Agate-Blade Assassin   en  ...   \n",
      "2           NaN            NaN         A-Heartfire Hero   en  ...   \n",
      "3      558439.0       777656.0  Alania, Divergent Storm   en  ...   \n",
      "4      559554.0       778487.0       Alania's Pathmaker   en  ...   \n",
      "\n",
      "                                        related_uris  \\\n",
      "0  {'gatherer': 'https://gatherer.wizards.com/Pag...   \n",
      "1  {'gatherer': 'https://gatherer.wizards.com/Pag...   \n",
      "2  {'tcgplayer_infinite_articles': 'https://partn...   \n",
      "3  {'gatherer': 'https://gatherer.wizards.com/Pag...   \n",
      "4  {'gatherer': 'https://gatherer.wizards.com/Pag...   \n",
      "\n",
      "                                       purchase_uris power toughness  \\\n",
      "0  {'tcgplayer': 'https://partner.tcgplayer.com/c...   NaN       NaN   \n",
      "1  {'tcgplayer': 'https://partner.tcgplayer.com/c...     1         3   \n",
      "2                                                NaN     0         1   \n",
      "3  {'tcgplayer': 'https://partner.tcgplayer.com/c...     3         5   \n",
      "4  {'tcgplayer': 'https://partner.tcgplayer.com/c...     4         2   \n",
      "\n",
      "                                           all_parts security_stamp  \\\n",
      "0                                                NaN            NaN   \n",
      "1                                                NaN            NaN   \n",
      "2  [{'object': 'related_card', 'id': '48ace959-66...          arena   \n",
      "3                                                NaN           oval   \n",
      "4                                                NaN            NaN   \n",
      "\n",
      "                 promo_types  frame_effects  produced_mana loyalty  \n",
      "0                        NaN            NaN            NaN     NaN  \n",
      "1                        NaN            NaN            NaN     NaN  \n",
      "2  ['rebalanced', 'alchemy']            NaN            NaN     NaN  \n",
      "3                        NaN  ['legendary']            NaN     NaN  \n",
      "4                        NaN            NaN            NaN     NaN  \n",
      "\n",
      "[5 rows x 72 columns]\n",
      "\n",
      "Fetching Duskmourne card data...\n",
      "Loading Scryfall data for Duskmourn from existing file...\n",
      "  object                                    id  \\\n",
      "0   card  ee0565f5-ebdb-43f9-bbb4-0485b1968937   \n",
      "1   card  d2705b43-a94a-44c0-8740-82e0b296820c   \n",
      "2   card  6f1a7590-3eee-4803-b192-d4fb771e6a86   \n",
      "3   card  053c829b-ab70-4e99-8062-a9d848adb66c   \n",
      "4   card  807b0674-8eba-4204-b6b6-fa2b785a79e9   \n",
      "\n",
      "                              oracle_id multiverse_ids   mtgo_id  arena_id  \\\n",
      "0  0eec9984-cd11-4a52-9234-469c6a5fb9aa       [673660]  130641.0     92355   \n",
      "1  b1a0e129-27f0-4a09-b00d-497e18777306       [673447]  130215.0     92104   \n",
      "2  d8ce3f18-26fe-47e8-be8b-0d89d7de7038       [673406]  130133.0     92055   \n",
      "3  04c6aa4e-b328-44b8-9d47-3c0d10289048             []       NaN     96355   \n",
      "4  6591f243-f94c-4a83-bb16-1fb838d9eb14       [673571]  130463.0     92254   \n",
      "\n",
      "   tcgplayer_id  cardmarket_id                        name lang  ...  \\\n",
      "0      575112.0       786616.0        Abandoned Campground   en  ...   \n",
      "1      578053.0       788264.0            Abhorrent Oculus   en  ...   \n",
      "2      575155.0       786367.0       Acrobatic Cheerleader   en  ...   \n",
      "3           NaN            NaN      A-Leyline of Resonance   en  ...   \n",
      "4      575272.0       786557.0  Altanak, the Thrice-Called   en  ...   \n",
      "\n",
      "                                       purchase_uris power toughness  \\\n",
      "0  {'tcgplayer': 'https://partner.tcgplayer.com/c...   NaN       NaN   \n",
      "1  {'tcgplayer': 'https://partner.tcgplayer.com/c...   5.0       5.0   \n",
      "2  {'tcgplayer': 'https://partner.tcgplayer.com/c...   2.0       2.0   \n",
      "3                                                NaN   NaN       NaN   \n",
      "4  {'tcgplayer': 'https://partner.tcgplayer.com/c...   9.0       9.0   \n",
      "\n",
      "                                           all_parts  security_stamp  \\\n",
      "0                                                NaN             NaN   \n",
      "1  [{'object': 'related_card', 'id': '5f89402a-ef...            oval   \n",
      "2                                                NaN             NaN   \n",
      "3  [{'object': 'related_card', 'id': '053c829b-ab...           arena   \n",
      "4  [{'object': 'related_card', 'id': '94c58683-b5...             NaN   \n",
      "\n",
      "                 promo_types  frame_effects card_faces  loyalty watermark  \n",
      "0                        NaN            NaN        NaN      NaN       NaN  \n",
      "1                        NaN            NaN        NaN      NaN       NaN  \n",
      "2                        NaN            NaN        NaN      NaN       NaN  \n",
      "3  ['rebalanced', 'alchemy']            NaN        NaN      NaN       NaN  \n",
      "4                        NaN  ['legendary']        NaN      NaN       NaN  \n",
      "\n",
      "[5 rows x 74 columns]\n",
      "\n",
      "Fetching Duskmourne again...\n",
      "Retrieved Duskmourn data from memory.\n",
      "Confirmed: Duskmourne card data was retrieved only once.\n"
     ]
    }
   ],
   "source": [
    "\n",
    "\n",
    "from scripts.get_card_data import get_card_data\n",
    "#import importlib\n",
    "#importlib.reload(get_card_data)\n",
    "\n",
    "# Fetch card data for Bloomburrow (should be available)\n",
    "print(\"Fetching Bloomburrow card data...\")\n",
    "blb_data = get_card_data(\"blb\")\n",
    "print(blb_data.head())  # Show the first few rows\n",
    "\n",
    "# Fetch card data for Duskmourne (assuming it's not preloaded)\n",
    "print(\"\\nFetching Duskmourne card data...\")\n",
    "dsk_data = get_card_data(\"dsk\")\n",
    "print(dsk_data.head())\n",
    "\n",
    "# Fetch Duskmourne again to confirm it's not being re-fetched\n",
    "print(\"\\nFetching Duskmourne again...\")\n",
    "dsk_data_again = get_card_data(\"dsk\")\n",
    "\n",
    "# Verify the dataframes are the same object (not refetched)\n",
    "assert dsk_data is dsk_data_again, \"Duskmourne data was refetched instead of being cached.\"\n",
    "print(\"Confirmed: Duskmourne card data was retrieved only once.\")\n"
   ]
  }
 ],
 "metadata": {
  "kernelspec": {
   "display_name": "win_c0c1",
   "language": "python",
   "name": "python3"
  },
  "language_info": {
   "codemirror_mode": {
    "name": "ipython",
    "version": 3
   },
   "file_extension": ".py",
   "mimetype": "text/x-python",
   "name": "python",
   "nbconvert_exporter": "python",
   "pygments_lexer": "ipython3",
   "version": "3.12.4"
  }
 },
 "nbformat": 4,
 "nbformat_minor": 5
}
