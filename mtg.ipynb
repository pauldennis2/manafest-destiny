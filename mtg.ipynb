{
 "cells": [
  {
   "cell_type": "markdown",
   "id": "24529795",
   "metadata": {},
   "source": [
    "## Mana-fest Destiny"
   ]
  },
  {
   "cell_type": "code",
   "execution_count": 1,
   "id": "ba49843f",
   "metadata": {},
   "outputs": [],
   "source": [
    "%load_ext autoreload\n",
    "%autoreload 2\n",
    "\n",
    "#Imports\n",
    "import os\n",
    "import pandas as pd\n",
    "import requests"
   ]
  },
  {
   "cell_type": "markdown",
   "id": "80bc0aa8",
   "metadata": {},
   "source": [
    "# Clean Slate wooo"
   ]
  },
  {
   "cell_type": "code",
   "execution_count": 6,
   "id": "1dc2f1be",
   "metadata": {},
   "outputs": [
    {
     "name": "stdout",
     "output_type": "stream",
     "text": [
      "Fetching Bloomburrow card data...\n",
      "Loading Scryfall data for Bloomburrow from existing file...\n",
      "  object                                    id  \\\n",
      "0   card  7dd9946b-515e-4e0d-9da2-711e126e9fa6   \n",
      "1   card  39ebb84a-1c52-4b07-9bd0-b360523b3a5b   \n",
      "2   card  b24c3e9c-2aff-45fd-9c87-3ebd33bbe807   \n",
      "3   card  436d6a84-4cea-4ca7-94aa-9d08280652af   \n",
      "4   card  d3871fe6-e26e-4ab4-bd81-7e3c7b8135c1   \n",
      "\n",
      "                              oracle_id multiverse_ids   mtgo_id  arena_id  \\\n",
      "0  7b89b7d2-c724-4d5d-9f0b-7d3302ad1168       [669036]  129489.0   91658.0   \n",
      "1  381a3e8e-71dd-48e4-ab62-53478bde4a14       [668996]  129409.0   91618.0   \n",
      "2  eb5406e1-c3eb-4434-91f4-308622d3eab4             []       NaN       NaN   \n",
      "3  63d50d5e-56de-44c4-b906-b2a21a56e3f3       [669118]  129653.0   91740.0   \n",
      "4  ce36a450-68a6-4519-a9f0-0e3b772054eb       [669037]  129491.0   91659.0   \n",
      "\n",
      "   tcgplayer_id  cardmarket_id                     name lang  ...  \\\n",
      "0      559491.0       778435.0            Agate Assault   en  ...   \n",
      "1      559647.0       778511.0     Agate-Blade Assassin   en  ...   \n",
      "2           NaN            NaN         A-Heartfire Hero   en  ...   \n",
      "3      558439.0       777656.0  Alania, Divergent Storm   en  ...   \n",
      "4      559554.0       778487.0       Alania's Pathmaker   en  ...   \n",
      "\n",
      "                                        related_uris  \\\n",
      "0  {'gatherer': 'https://gatherer.wizards.com/Pag...   \n",
      "1  {'gatherer': 'https://gatherer.wizards.com/Pag...   \n",
      "2  {'tcgplayer_infinite_articles': 'https://partn...   \n",
      "3  {'gatherer': 'https://gatherer.wizards.com/Pag...   \n",
      "4  {'gatherer': 'https://gatherer.wizards.com/Pag...   \n",
      "\n",
      "                                       purchase_uris power toughness  \\\n",
      "0  {'tcgplayer': 'https://partner.tcgplayer.com/c...   NaN       NaN   \n",
      "1  {'tcgplayer': 'https://partner.tcgplayer.com/c...     1         3   \n",
      "2                                                NaN     0         1   \n",
      "3  {'tcgplayer': 'https://partner.tcgplayer.com/c...     3         5   \n",
      "4  {'tcgplayer': 'https://partner.tcgplayer.com/c...     4         2   \n",
      "\n",
      "                                           all_parts security_stamp  \\\n",
      "0                                                NaN            NaN   \n",
      "1                                                NaN            NaN   \n",
      "2  [{'object': 'related_card', 'id': '48ace959-66...          arena   \n",
      "3                                                NaN           oval   \n",
      "4                                                NaN            NaN   \n",
      "\n",
      "                 promo_types  frame_effects  produced_mana loyalty  \n",
      "0                        NaN            NaN            NaN     NaN  \n",
      "1                        NaN            NaN            NaN     NaN  \n",
      "2  ['rebalanced', 'alchemy']            NaN            NaN     NaN  \n",
      "3                        NaN  ['legendary']            NaN     NaN  \n",
      "4                        NaN            NaN            NaN     NaN  \n",
      "\n",
      "[5 rows x 72 columns]\n",
      "\n",
      "Fetching Duskmourne card data...\n",
      "Loading Scryfall data for Duskmourn from existing file...\n",
      "  object                                    id  \\\n",
      "0   card  ee0565f5-ebdb-43f9-bbb4-0485b1968937   \n",
      "1   card  d2705b43-a94a-44c0-8740-82e0b296820c   \n",
      "2   card  6f1a7590-3eee-4803-b192-d4fb771e6a86   \n",
      "3   card  053c829b-ab70-4e99-8062-a9d848adb66c   \n",
      "4   card  807b0674-8eba-4204-b6b6-fa2b785a79e9   \n",
      "\n",
      "                              oracle_id multiverse_ids   mtgo_id  arena_id  \\\n",
      "0  0eec9984-cd11-4a52-9234-469c6a5fb9aa       [673660]  130641.0     92355   \n",
      "1  b1a0e129-27f0-4a09-b00d-497e18777306       [673447]  130215.0     92104   \n",
      "2  d8ce3f18-26fe-47e8-be8b-0d89d7de7038       [673406]  130133.0     92055   \n",
      "3  04c6aa4e-b328-44b8-9d47-3c0d10289048             []       NaN     96355   \n",
      "4  6591f243-f94c-4a83-bb16-1fb838d9eb14       [673571]  130463.0     92254   \n",
      "\n",
      "   tcgplayer_id  cardmarket_id                        name lang  ...  \\\n",
      "0      575112.0       786616.0        Abandoned Campground   en  ...   \n",
      "1      578053.0       788264.0            Abhorrent Oculus   en  ...   \n",
      "2      575155.0       786367.0       Acrobatic Cheerleader   en  ...   \n",
      "3           NaN            NaN      A-Leyline of Resonance   en  ...   \n",
      "4      575272.0       786557.0  Altanak, the Thrice-Called   en  ...   \n",
      "\n",
      "                                       purchase_uris power toughness  \\\n",
      "0  {'tcgplayer': 'https://partner.tcgplayer.com/c...   NaN       NaN   \n",
      "1  {'tcgplayer': 'https://partner.tcgplayer.com/c...   5.0       5.0   \n",
      "2  {'tcgplayer': 'https://partner.tcgplayer.com/c...   2.0       2.0   \n",
      "3                                                NaN   NaN       NaN   \n",
      "4  {'tcgplayer': 'https://partner.tcgplayer.com/c...   9.0       9.0   \n",
      "\n",
      "                                           all_parts  security_stamp  \\\n",
      "0                                                NaN             NaN   \n",
      "1  [{'object': 'related_card', 'id': '5f89402a-ef...            oval   \n",
      "2                                                NaN             NaN   \n",
      "3  [{'object': 'related_card', 'id': '053c829b-ab...           arena   \n",
      "4  [{'object': 'related_card', 'id': '94c58683-b5...             NaN   \n",
      "\n",
      "                 promo_types  frame_effects card_faces  loyalty watermark  \n",
      "0                        NaN            NaN        NaN      NaN       NaN  \n",
      "1                        NaN            NaN        NaN      NaN       NaN  \n",
      "2                        NaN            NaN        NaN      NaN       NaN  \n",
      "3  ['rebalanced', 'alchemy']            NaN        NaN      NaN       NaN  \n",
      "4                        NaN  ['legendary']        NaN      NaN       NaN  \n",
      "\n",
      "[5 rows x 74 columns]\n",
      "\n",
      "Fetching Duskmourne again...\n",
      "Retrieved Duskmourn data from memory.\n",
      "Confirmed: Duskmourne card data was retrieved only once.\n"
     ]
    }
   ],
   "source": [
    "\n",
    "\n",
    "from scripts.get_card_data import get_card_data\n",
    "#import importlib\n",
    "#importlib.reload(get_card_data)\n",
    "\n",
    "# Fetch card data for Bloomburrow (should be available)\n",
    "print(\"Fetching Bloomburrow card data...\")\n",
    "blb_data = get_card_data(\"blb\")\n",
    "print(blb_data.head())  # Show the first few rows\n",
    "\n",
    "# Fetch card data for Duskmourne (assuming it's not preloaded)\n",
    "print(\"\\nFetching Duskmourne card data...\")\n",
    "dsk_data = get_card_data(\"dsk\")\n",
    "print(dsk_data.head())\n",
    "\n",
    "# Fetch Duskmourne again to confirm it's not being re-fetched\n",
    "print(\"\\nFetching Duskmourne again...\")\n",
    "dsk_data_again = get_card_data(\"dsk\")\n",
    "\n",
    "# Verify the dataframes are the same object (not refetched)\n",
    "assert dsk_data is dsk_data_again, \"Duskmourne data was refetched instead of being cached.\"\n",
    "print(\"Confirmed: Duskmourne card data was retrieved only once.\")\n"
   ]
  },
  {
   "cell_type": "code",
   "execution_count": 2,
   "id": "e6c7e604",
   "metadata": {},
   "outputs": [
    {
     "name": "stdout",
     "output_type": "stream",
     "text": [
      "Running deck analysis for blb...\n",
      "Loading Scryfall data for Bloomburrow from existing file...\n",
      "Loading game data for blb from Parquet file...\n",
      "games_df shape before grouping: (931230, 1400)\n"
     ]
    },
    {
     "name": "stderr",
     "output_type": "stream",
     "text": [
      "c:\\Users\\aaeam\\Documents\\final_mtg\\scripts\\deckcard_analysis.py:1: SyntaxWarning: invalid escape sequence '\\ '\n",
      "  \"\"\"\n"
     ]
    },
    {
     "ename": "KeyError",
     "evalue": "'Agate-Blade Assassin'",
     "output_type": "error",
     "traceback": [
      "\u001b[1;31m---------------------------------------------------------------------------\u001b[0m",
      "\u001b[1;31mKeyError\u001b[0m                                  Traceback (most recent call last)",
      "Cell \u001b[1;32mIn[2], line 2\u001b[0m\n\u001b[0;32m      1\u001b[0m \u001b[38;5;28;01mfrom\u001b[39;00m \u001b[38;5;21;01mscripts\u001b[39;00m\u001b[38;5;21;01m.\u001b[39;00m\u001b[38;5;21;01mdeckcard_analysis\u001b[39;00m \u001b[38;5;28;01mimport\u001b[39;00m get_deck_data\n\u001b[1;32m----> 2\u001b[0m blb_decks_df \u001b[38;5;241m=\u001b[39m \u001b[43mget_deck_data\u001b[49m\u001b[43m(\u001b[49m\u001b[38;5;124;43m\"\u001b[39;49m\u001b[38;5;124;43mblb\u001b[39;49m\u001b[38;5;124;43m\"\u001b[39;49m\u001b[43m)\u001b[49m\n\u001b[0;32m      3\u001b[0m \u001b[38;5;28mprint\u001b[39m(\u001b[38;5;124m\"\u001b[39m\u001b[38;5;130;01m\\n\u001b[39;00m\u001b[38;5;124mBloomburrow Deck Data:\u001b[39m\u001b[38;5;124m\"\u001b[39m)  \n\u001b[0;32m      4\u001b[0m blb_decks_df\u001b[38;5;241m.\u001b[39mhead()\n",
      "File \u001b[1;32mc:\\Users\\aaeam\\Documents\\final_mtg\\scripts\\deckcard_analysis.py:44\u001b[0m, in \u001b[0;36mget_deck_data\u001b[1;34m(set_code)\u001b[0m\n\u001b[0;32m     42\u001b[0m \u001b[38;5;66;03m# No cached data, run analysis\u001b[39;00m\n\u001b[0;32m     43\u001b[0m \u001b[38;5;28mprint\u001b[39m(\u001b[38;5;124mf\u001b[39m\u001b[38;5;124m\"\u001b[39m\u001b[38;5;124mRunning deck analysis for \u001b[39m\u001b[38;5;132;01m{\u001b[39;00mset_code\u001b[38;5;132;01m}\u001b[39;00m\u001b[38;5;124m...\u001b[39m\u001b[38;5;124m\"\u001b[39m)\n\u001b[1;32m---> 44\u001b[0m df \u001b[38;5;241m=\u001b[39m \u001b[43m_run_deck_analysis\u001b[49m\u001b[43m(\u001b[49m\u001b[43mset_code\u001b[49m\u001b[43m)\u001b[49m\n\u001b[0;32m     45\u001b[0m df\u001b[38;5;241m.\u001b[39mto_csv(file_path, index\u001b[38;5;241m=\u001b[39m\u001b[38;5;28;01mFalse\u001b[39;00m)\n\u001b[0;32m     46\u001b[0m deck_dfmap[set_code] \u001b[38;5;241m=\u001b[39m df\n",
      "File \u001b[1;32mc:\\Users\\aaeam\\Documents\\final_mtg\\scripts\\deckcard_analysis.py:80\u001b[0m, in \u001b[0;36m_run_deck_analysis\u001b[1;34m(set_code)\u001b[0m\n\u001b[0;32m     76\u001b[0m deck_list \u001b[38;5;241m=\u001b[39m [col\u001b[38;5;241m.\u001b[39mreplace(\u001b[38;5;124m\"\u001b[39m\u001b[38;5;124mdeck_\u001b[39m\u001b[38;5;124m\"\u001b[39m, \u001b[38;5;124m\"\u001b[39m\u001b[38;5;124m\"\u001b[39m) \u001b[38;5;28;01mfor\u001b[39;00m col \u001b[38;5;129;01min\u001b[39;00m deck_card_columns \u001b[38;5;28;01mif\u001b[39;00m group[col]\u001b[38;5;241m.\u001b[39msum() \u001b[38;5;241m>\u001b[39m \u001b[38;5;241m0\u001b[39m]\n\u001b[0;32m     78\u001b[0m wins, losses \u001b[38;5;241m=\u001b[39m group[\u001b[38;5;124m\"\u001b[39m\u001b[38;5;124mwins\u001b[39m\u001b[38;5;124m\"\u001b[39m]\u001b[38;5;241m.\u001b[39msum(), group[\u001b[38;5;124m\"\u001b[39m\u001b[38;5;124mlosses\u001b[39m\u001b[38;5;124m\"\u001b[39m]\u001b[38;5;241m.\u001b[39msum()\n\u001b[1;32m---> 80\u001b[0m non_land_cards \u001b[38;5;241m=\u001b[39m [card \u001b[38;5;28;01mfor\u001b[39;00m card \u001b[38;5;129;01min\u001b[39;00m deck_list \u001b[38;5;28;01mif\u001b[39;00m \u001b[38;5;124m\"\u001b[39m\u001b[38;5;124mLand\u001b[39m\u001b[38;5;124m\"\u001b[39m \u001b[38;5;129;01mnot\u001b[39;00m \u001b[38;5;129;01min\u001b[39;00m \u001b[43mcard_df\u001b[49m\u001b[38;5;241;43m.\u001b[39;49m\u001b[43mloc\u001b[49m\u001b[43m[\u001b[49m\u001b[43mcard\u001b[49m\u001b[43m,\u001b[49m\u001b[43m \u001b[49m\u001b[38;5;124;43m\"\u001b[39;49m\u001b[38;5;124;43mtype_line\u001b[39;49m\u001b[38;5;124;43m\"\u001b[39;49m\u001b[43m]\u001b[49m]\n\u001b[0;32m     81\u001b[0m avg_mana_curve \u001b[38;5;241m=\u001b[39m \u001b[38;5;28msum\u001b[39m(card_df\u001b[38;5;241m.\u001b[39mloc[card, \u001b[38;5;124m\"\u001b[39m\u001b[38;5;124mcmc\u001b[39m\u001b[38;5;124m\"\u001b[39m] \u001b[38;5;28;01mfor\u001b[39;00m card \u001b[38;5;129;01min\u001b[39;00m non_land_cards \u001b[38;5;28;01mif\u001b[39;00m card \u001b[38;5;129;01min\u001b[39;00m card_df\u001b[38;5;241m.\u001b[39mindex) \u001b[38;5;241m/\u001b[39m \u001b[38;5;28mlen\u001b[39m(non_land_cards) \u001b[38;5;28;01mif\u001b[39;00m non_land_cards \u001b[38;5;28;01melse\u001b[39;00m \u001b[38;5;241m0\u001b[39m\n\u001b[0;32m     82\u001b[0m bomb_density \u001b[38;5;241m=\u001b[39m \u001b[38;5;28msum\u001b[39m(\u001b[38;5;241m1\u001b[39m \u001b[38;5;28;01mfor\u001b[39;00m card \u001b[38;5;129;01min\u001b[39;00m deck_list \u001b[38;5;28;01mif\u001b[39;00m card_df\u001b[38;5;241m.\u001b[39mloc[card, \u001b[38;5;124m\"\u001b[39m\u001b[38;5;124mrarity\u001b[39m\u001b[38;5;124m\"\u001b[39m] \u001b[38;5;129;01min\u001b[39;00m [\u001b[38;5;124m\"\u001b[39m\u001b[38;5;124mrare\u001b[39m\u001b[38;5;124m\"\u001b[39m, \u001b[38;5;124m\"\u001b[39m\u001b[38;5;124mmythic\u001b[39m\u001b[38;5;124m\"\u001b[39m]) \u001b[38;5;241m/\u001b[39m \u001b[38;5;28mlen\u001b[39m(deck_list)\n",
      "File \u001b[1;32mc:\\Users\\aaeam\\anaconda3\\envs\\win_c0c1\\Lib\\site-packages\\pandas\\core\\indexing.py:1183\u001b[0m, in \u001b[0;36m_LocationIndexer.__getitem__\u001b[1;34m(self, key)\u001b[0m\n\u001b[0;32m   1181\u001b[0m     key \u001b[38;5;241m=\u001b[39m \u001b[38;5;28mtuple\u001b[39m(com\u001b[38;5;241m.\u001b[39mapply_if_callable(x, \u001b[38;5;28mself\u001b[39m\u001b[38;5;241m.\u001b[39mobj) \u001b[38;5;28;01mfor\u001b[39;00m x \u001b[38;5;129;01min\u001b[39;00m key)\n\u001b[0;32m   1182\u001b[0m     \u001b[38;5;28;01mif\u001b[39;00m \u001b[38;5;28mself\u001b[39m\u001b[38;5;241m.\u001b[39m_is_scalar_access(key):\n\u001b[1;32m-> 1183\u001b[0m         \u001b[38;5;28;01mreturn\u001b[39;00m \u001b[38;5;28;43mself\u001b[39;49m\u001b[38;5;241;43m.\u001b[39;49m\u001b[43mobj\u001b[49m\u001b[38;5;241;43m.\u001b[39;49m\u001b[43m_get_value\u001b[49m\u001b[43m(\u001b[49m\u001b[38;5;241;43m*\u001b[39;49m\u001b[43mkey\u001b[49m\u001b[43m,\u001b[49m\u001b[43m \u001b[49m\u001b[43mtakeable\u001b[49m\u001b[38;5;241;43m=\u001b[39;49m\u001b[38;5;28;43mself\u001b[39;49m\u001b[38;5;241;43m.\u001b[39;49m\u001b[43m_takeable\u001b[49m\u001b[43m)\u001b[49m\n\u001b[0;32m   1184\u001b[0m     \u001b[38;5;28;01mreturn\u001b[39;00m \u001b[38;5;28mself\u001b[39m\u001b[38;5;241m.\u001b[39m_getitem_tuple(key)\n\u001b[0;32m   1185\u001b[0m \u001b[38;5;28;01melse\u001b[39;00m:\n\u001b[0;32m   1186\u001b[0m     \u001b[38;5;66;03m# we by definition only have the 0th axis\u001b[39;00m\n",
      "File \u001b[1;32mc:\\Users\\aaeam\\anaconda3\\envs\\win_c0c1\\Lib\\site-packages\\pandas\\core\\frame.py:4221\u001b[0m, in \u001b[0;36mDataFrame._get_value\u001b[1;34m(self, index, col, takeable)\u001b[0m\n\u001b[0;32m   4215\u001b[0m engine \u001b[38;5;241m=\u001b[39m \u001b[38;5;28mself\u001b[39m\u001b[38;5;241m.\u001b[39mindex\u001b[38;5;241m.\u001b[39m_engine\n\u001b[0;32m   4217\u001b[0m \u001b[38;5;28;01mif\u001b[39;00m \u001b[38;5;129;01mnot\u001b[39;00m \u001b[38;5;28misinstance\u001b[39m(\u001b[38;5;28mself\u001b[39m\u001b[38;5;241m.\u001b[39mindex, MultiIndex):\n\u001b[0;32m   4218\u001b[0m     \u001b[38;5;66;03m# CategoricalIndex: Trying to use the engine fastpath may give incorrect\u001b[39;00m\n\u001b[0;32m   4219\u001b[0m     \u001b[38;5;66;03m#  results if our categories are integers that dont match our codes\u001b[39;00m\n\u001b[0;32m   4220\u001b[0m     \u001b[38;5;66;03m# IntervalIndex: IntervalTree has no get_loc\u001b[39;00m\n\u001b[1;32m-> 4221\u001b[0m     row \u001b[38;5;241m=\u001b[39m \u001b[38;5;28;43mself\u001b[39;49m\u001b[38;5;241;43m.\u001b[39;49m\u001b[43mindex\u001b[49m\u001b[38;5;241;43m.\u001b[39;49m\u001b[43mget_loc\u001b[49m\u001b[43m(\u001b[49m\u001b[43mindex\u001b[49m\u001b[43m)\u001b[49m\n\u001b[0;32m   4222\u001b[0m     \u001b[38;5;28;01mreturn\u001b[39;00m series\u001b[38;5;241m.\u001b[39m_values[row]\n\u001b[0;32m   4224\u001b[0m \u001b[38;5;66;03m# For MultiIndex going through engine effectively restricts us to\u001b[39;00m\n\u001b[0;32m   4225\u001b[0m \u001b[38;5;66;03m#  same-length tuples; see test_get_set_value_no_partial_indexing\u001b[39;00m\n",
      "File \u001b[1;32mc:\\Users\\aaeam\\anaconda3\\envs\\win_c0c1\\Lib\\site-packages\\pandas\\core\\indexes\\range.py:417\u001b[0m, in \u001b[0;36mRangeIndex.get_loc\u001b[1;34m(self, key)\u001b[0m\n\u001b[0;32m    415\u001b[0m         \u001b[38;5;28;01mraise\u001b[39;00m \u001b[38;5;167;01mKeyError\u001b[39;00m(key) \u001b[38;5;28;01mfrom\u001b[39;00m \u001b[38;5;21;01merr\u001b[39;00m\n\u001b[0;32m    416\u001b[0m \u001b[38;5;28;01mif\u001b[39;00m \u001b[38;5;28misinstance\u001b[39m(key, Hashable):\n\u001b[1;32m--> 417\u001b[0m     \u001b[38;5;28;01mraise\u001b[39;00m \u001b[38;5;167;01mKeyError\u001b[39;00m(key)\n\u001b[0;32m    418\u001b[0m \u001b[38;5;28mself\u001b[39m\u001b[38;5;241m.\u001b[39m_check_indexing_error(key)\n\u001b[0;32m    419\u001b[0m \u001b[38;5;28;01mraise\u001b[39;00m \u001b[38;5;167;01mKeyError\u001b[39;00m(key)\n",
      "\u001b[1;31mKeyError\u001b[0m: 'Agate-Blade Assassin'"
     ]
    }
   ],
   "source": [
    "from scripts.deckcard_analysis import get_deck_data\n",
    "blb_decks_df = get_deck_data(\"blb\")\n",
    "print(\"\\nBloomburrow Deck Data:\")  \n",
    "blb_decks_df.head()"
   ]
  },
  {
   "cell_type": "code",
   "execution_count": 2,
   "id": "c58196a5",
   "metadata": {},
   "outputs": [
    {
     "name": "stdout",
     "output_type": "stream",
     "text": [
      "Loading game data for blb from Parquet file...\n",
      "Columns in games_df: Index(['draft_id', 'draft_ti fome', 'game_time', 'build_index', 'match_number',\n",
      "       'game_number', 'rank', 'opp_rank', 'main_colors', 'splash_colors',\n",
      "       ...\n",
      "       'tutored_Ygra, Eater of All', 'deck_Ygra, Eater of All',\n",
      "       'sideboard_Ygra, Eater of All', 'opening_hand_Zoraline, Cosmos Caller',\n",
      "       'drawn_Zoraline, Cosmos Caller', 'tutored_Zoraline, Cosmos Caller',\n",
      "       'deck_Zoraline, Cosmos Caller', 'sideboard_Zoraline, Cosmos Caller',\n",
      "       'user_n_games_bucket', 'user_game_win_rate_bucket'],\n",
      "      dtype='object', length=1398)\n",
      "                           draft_id        draft_ti fome            game_time  \\\n",
      "0  deaa4cdcd3e84d8e8b5a0ea34a0f9d79  2024-07-30 22:30:39  2024-07-30 22:58:45   \n",
      "1  deaa4cdcd3e84d8e8b5a0ea34a0f9d79  2024-07-30 22:30:39  2024-07-30 23:13:12   \n",
      "2  deaa4cdcd3e84d8e8b5a0ea34a0f9d79  2024-07-30 22:30:39  2024-07-30 23:29:06   \n",
      "3  deaa4cdcd3e84d8e8b5a0ea34a0f9d79  2024-07-30 22:30:39  2024-07-30 23:46:30   \n",
      "4  deaa4cdcd3e84d8e8b5a0ea34a0f9d79  2024-07-30 22:30:39  2024-07-30 23:55:34   \n",
      "\n",
      "   build_index  match_number  game_number  rank  opp_rank main_colors  \\\n",
      "0            0             1            1  gold       NaN          BG   \n",
      "1            0             2            1  gold       NaN          BG   \n",
      "2            0             3            1  gold       NaN          BG   \n",
      "3            0             4            1  gold       NaN          BG   \n",
      "4            0             5            1  gold       NaN          BG   \n",
      "\n",
      "  splash_colors  ...  tutored_Ygra, Eater of All  deck_Ygra, Eater of All  \\\n",
      "0            WR  ...                           0                        1   \n",
      "1            WR  ...                           0                        1   \n",
      "2            WR  ...                           0                        1   \n",
      "3            WR  ...                           0                        1   \n",
      "4            WR  ...                           0                        1   \n",
      "\n",
      "   sideboard_Ygra, Eater of All opening_hand_Zoraline, Cosmos Caller  \\\n",
      "0                             0                                    0   \n",
      "1                             0                                    0   \n",
      "2                             0                                    0   \n",
      "3                             0                                    0   \n",
      "4                             0                                    0   \n",
      "\n",
      "   drawn_Zoraline, Cosmos Caller  tutored_Zoraline, Cosmos Caller  \\\n",
      "0                              0                                0   \n",
      "1                              0                                0   \n",
      "2                              0                                0   \n",
      "3                              0                                0   \n",
      "4                              0                                0   \n",
      "\n",
      "   deck_Zoraline, Cosmos Caller  sideboard_Zoraline, Cosmos Caller  \\\n",
      "0                             0                                  0   \n",
      "1                             0                                  0   \n",
      "2                             0                                  0   \n",
      "3                             0                                  0   \n",
      "4                             0                                  0   \n",
      "\n",
      "   user_n_games_bucket  user_game_win_rate_bucket  \n",
      "0                   50                       0.54  \n",
      "1                   50                       0.54  \n",
      "2                   50                       0.54  \n",
      "3                   50                       0.54  \n",
      "4                   50                       0.54  \n",
      "\n",
      "[5 rows x 1398 columns]\n"
     ]
    }
   ],
   "source": [
    "import pandas as pd\n",
    "from scripts.get_games_data import get_games_data\n",
    "\n",
    "games_df = get_games_data(\"blb\")  # Replace \"blb\" with any relevant set code\n",
    "\n",
    "print(\"Columns in games_df:\", games_df.columns)\n",
    "print(games_df.head())  # Show sample data to inspect structure\n"
   ]
  },
  {
   "cell_type": "code",
   "execution_count": 7,
   "id": "91dd2fc8",
   "metadata": {},
   "outputs": [
    {
     "name": "stdout",
     "output_type": "stream",
     "text": [
      "Loading game data for blb from Parquet file...\n",
      "Number of detected deck_* columns: 276\n"
     ]
    }
   ],
   "source": [
    "blb_df = get_games_data(\"blb\")\n",
    "deck_card_columns = [col for col in blb_df.columns if col.startswith(\"deck_\")]\n",
    "print(f\"Number of detected deck_* columns: {len(deck_card_columns)}\")"
   ]
  }
 ],
 "metadata": {
  "kernelspec": {
   "display_name": "win_c0c1",
   "language": "python",
   "name": "python3"
  },
  "language_info": {
   "codemirror_mode": {
    "name": "ipython",
    "version": 3
   },
   "file_extension": ".py",
   "mimetype": "text/x-python",
   "name": "python",
   "nbconvert_exporter": "python",
   "pygments_lexer": "ipython3",
   "version": "3.12.4"
  }
 },
 "nbformat": 4,
 "nbformat_minor": 5
}
