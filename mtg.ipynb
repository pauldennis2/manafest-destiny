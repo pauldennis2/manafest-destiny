{
 "cells": [
  {
   "cell_type": "markdown",
   "id": "24529795",
   "metadata": {},
   "source": [
    "## Mana-fest Destiny"
   ]
  },
  {
   "cell_type": "code",
   "execution_count": 2,
   "id": "ba49843f",
   "metadata": {},
   "outputs": [],
   "source": [
    "#Imports\n",
    "import os\n",
    "import pandas as pd\n",
    "import requests"
   ]
  },
  {
   "cell_type": "markdown",
   "id": "80bc0aa8",
   "metadata": {},
   "source": [
    "# Clean Slate wooo"
   ]
  }
 ],
 "metadata": {
  "kernelspec": {
   "display_name": "win_c0c1",
   "language": "python",
   "name": "python3"
  },
  "language_info": {
   "codemirror_mode": {
    "name": "ipython",
    "version": 3
   },
   "file_extension": ".py",
   "mimetype": "text/x-python",
   "name": "python",
   "nbconvert_exporter": "python",
   "pygments_lexer": "ipython3",
   "version": "3.12.4"
  }
 },
 "nbformat": 4,
 "nbformat_minor": 5
}
