{
 "cells": [
  {
   "cell_type": "markdown",
   "id": "24529795",
   "metadata": {},
   "source": [
    "## Mana-fest Destiny"
   ]
  },
  {
   "cell_type": "code",
   "execution_count": 2,
   "id": "ba49843f",
   "metadata": {},
   "outputs": [],
   "source": [
    "#Imports\n",
    "import os\n",
    "import pandas as pd\n",
    "import requests"
   ]
  },
  {
   "cell_type": "markdown",
   "id": "3d3294db",
   "metadata": {},
   "source": [
    "### Load/Download and Preclean Data"
   ]
  },
  {
   "cell_type": "code",
   "execution_count": null,
   "id": "a0fdce5b",
   "metadata": {},
   "outputs": [
    {
     "name": "stdout",
     "output_type": "stream",
     "text": [
      "Loading draft data from existing file...\n",
      "Loading Scryfall data from existing file...\n"
     ]
    }
   ],
   "source": [
    "# Set file paths\n",
    "DATA_DIR = \"data/\"\n",
    "DRAFT_CSV = os.path.join(DATA_DIR, \"cleaned_data.csv\")\n",
    "SCRYFALL_CSV = os.path.join(DATA_DIR, \"bloomburrow_cleaned.csv\")\n",
    "\n",
    "# Ensure data directory exists\n",
    "os.makedirs(DATA_DIR, exist_ok=True)\n",
    "\n",
    "# Function to load draft data (skip download if it exists)\n",
    "def load_draft_data():\n",
    "    if os.path.exists(DRAFT_CSV):\n",
    "        print(\"Loading draft data from existing file...\")\n",
    "        return pd.read_csv(DRAFT_CSV)\n",
    "    else:\n",
    "        print(\"Draft file missing. ERROR. CANNOT PROCEED. SELF DESTRUCT IN 5, 4, 3, 2, 1\")\n",
    "        assert(False)\n"
   ]
  },
  {
   "cell_type": "markdown",
   "id": "5b8b01d1",
   "metadata": {},
   "source": [
    "### Combine Card/Deck Data, Basic Count Analysis"
   ]
  },
  {
   "cell_type": "code",
   "execution_count": 10,
   "id": "58362932",
   "metadata": {},
   "outputs": [
    {
     "data": {
      "text/plain": [
       "Index(['draft_id', 'draft_ti fome', 'game_time', 'build_index', 'match_number',\n",
       "       'game_number', 'rank', 'opp_rank', 'main_colors', 'splash_colors',\n",
       "       ...\n",
       "       'tutored_Ygra, Eater of All', 'deck_Ygra, Eater of All',\n",
       "       'sideboard_Ygra, Eater of All', 'opening_hand_Zoraline, Cosmos Caller',\n",
       "       'drawn_Zoraline, Cosmos Caller', 'tutored_Zoraline, Cosmos Caller',\n",
       "       'deck_Zoraline, Cosmos Caller', 'sideboard_Zoraline, Cosmos Caller',\n",
       "       'user_n_games_bucket', 'user_game_win_rate_bucket'],\n",
       "      dtype='object', length=1398)"
      ]
     },
     "execution_count": 10,
     "metadata": {},
     "output_type": "execute_result"
    }
   ],
   "source": [
    "draft_df.columns"
   ]
  },
  {
   "cell_type": "code",
   "execution_count": 14,
   "id": "cbd16d6c",
   "metadata": {},
   "outputs": [
    {
     "ename": "KeyError",
     "evalue": "'wins'",
     "output_type": "error",
     "traceback": [
      "\u001b[1;31m---------------------------------------------------------------------------\u001b[0m",
      "\u001b[1;31mKeyError\u001b[0m                                  Traceback (most recent call last)",
      "File \u001b[1;32mc:\\Users\\aaeam\\anaconda3\\envs\\win_c0c1\\Lib\\site-packages\\pandas\\core\\indexes\\base.py:3805\u001b[0m, in \u001b[0;36mIndex.get_loc\u001b[1;34m(self, key)\u001b[0m\n\u001b[0;32m   3804\u001b[0m \u001b[38;5;28;01mtry\u001b[39;00m:\n\u001b[1;32m-> 3805\u001b[0m     \u001b[38;5;28;01mreturn\u001b[39;00m \u001b[38;5;28;43mself\u001b[39;49m\u001b[38;5;241;43m.\u001b[39;49m\u001b[43m_engine\u001b[49m\u001b[38;5;241;43m.\u001b[39;49m\u001b[43mget_loc\u001b[49m\u001b[43m(\u001b[49m\u001b[43mcasted_key\u001b[49m\u001b[43m)\u001b[49m\n\u001b[0;32m   3806\u001b[0m \u001b[38;5;28;01mexcept\u001b[39;00m \u001b[38;5;167;01mKeyError\u001b[39;00m \u001b[38;5;28;01mas\u001b[39;00m err:\n",
      "File \u001b[1;32mindex.pyx:167\u001b[0m, in \u001b[0;36mpandas._libs.index.IndexEngine.get_loc\u001b[1;34m()\u001b[0m\n",
      "File \u001b[1;32mindex.pyx:196\u001b[0m, in \u001b[0;36mpandas._libs.index.IndexEngine.get_loc\u001b[1;34m()\u001b[0m\n",
      "File \u001b[1;32mpandas\\\\_libs\\\\hashtable_class_helper.pxi:7081\u001b[0m, in \u001b[0;36mpandas._libs.hashtable.PyObjectHashTable.get_item\u001b[1;34m()\u001b[0m\n",
      "File \u001b[1;32mpandas\\\\_libs\\\\hashtable_class_helper.pxi:7089\u001b[0m, in \u001b[0;36mpandas._libs.hashtable.PyObjectHashTable.get_item\u001b[1;34m()\u001b[0m\n",
      "\u001b[1;31mKeyError\u001b[0m: 'wins'",
      "\nThe above exception was the direct cause of the following exception:\n",
      "\u001b[1;31mKeyError\u001b[0m                                  Traceback (most recent call last)",
      "Cell \u001b[1;32mIn[14], line 37\u001b[0m\n\u001b[0;32m     33\u001b[0m     deck_df\u001b[38;5;241m.\u001b[39mto_csv(output_file, index\u001b[38;5;241m=\u001b[39m\u001b[38;5;28;01mFalse\u001b[39;00m)\n\u001b[0;32m     34\u001b[0m     \u001b[38;5;28mprint\u001b[39m(\u001b[38;5;124mf\u001b[39m\u001b[38;5;124m\"\u001b[39m\u001b[38;5;124mDeck DataFrame created: \u001b[39m\u001b[38;5;132;01m{\u001b[39;00mdeck_df\u001b[38;5;241m.\u001b[39mshape[\u001b[38;5;241m0\u001b[39m]\u001b[38;5;132;01m}\u001b[39;00m\u001b[38;5;124m rows, \u001b[39m\u001b[38;5;132;01m{\u001b[39;00mdeck_df\u001b[38;5;241m.\u001b[39mshape[\u001b[38;5;241m1\u001b[39m]\u001b[38;5;132;01m}\u001b[39;00m\u001b[38;5;124m columns (Processed up to \u001b[39m\u001b[38;5;132;01m{\u001b[39;00mmax_decks\u001b[38;5;132;01m}\u001b[39;00m\u001b[38;5;124m decks)\u001b[39m\u001b[38;5;124m\"\u001b[39m)\n\u001b[1;32m---> 37\u001b[0m \u001b[43mgenerate_deck_data\u001b[49m\u001b[43m(\u001b[49m\u001b[43mdraft_df\u001b[49m\u001b[43m,\u001b[49m\u001b[43m \u001b[49m\u001b[43mcard_df\u001b[49m\u001b[43m,\u001b[49m\u001b[43m \u001b[49m\u001b[38;5;124;43m\"\u001b[39;49m\u001b[38;5;124;43mfirst_analysis.csv\u001b[39;49m\u001b[38;5;124;43m\"\u001b[39;49m\u001b[43m,\u001b[49m\u001b[43m \u001b[49m\u001b[38;5;241;43m2\u001b[39;49m\u001b[43m)\u001b[49m\n",
      "Cell \u001b[1;32mIn[14], line 24\u001b[0m, in \u001b[0;36mgenerate_deck_data\u001b[1;34m(draft_df, card_df, output_file, max_decks)\u001b[0m\n\u001b[0;32m     21\u001b[0m \u001b[38;5;66;03m# Get list of card names from relevant columns\u001b[39;00m\n\u001b[0;32m     22\u001b[0m deck_list \u001b[38;5;241m=\u001b[39m [col\u001b[38;5;241m.\u001b[39mreplace(\u001b[38;5;124m\"\u001b[39m\u001b[38;5;124mdeck_\u001b[39m\u001b[38;5;124m\"\u001b[39m, \u001b[38;5;124m\"\u001b[39m\u001b[38;5;124m\"\u001b[39m) \u001b[38;5;28;01mfor\u001b[39;00m col \u001b[38;5;129;01min\u001b[39;00m deck_columns \u001b[38;5;28;01mif\u001b[39;00m group[col]\u001b[38;5;241m.\u001b[39msum() \u001b[38;5;241m>\u001b[39m \u001b[38;5;241m0\u001b[39m]\n\u001b[1;32m---> 24\u001b[0m wins, losses \u001b[38;5;241m=\u001b[39m \u001b[43mgroup\u001b[49m\u001b[43m[\u001b[49m\u001b[38;5;124;43m\"\u001b[39;49m\u001b[38;5;124;43mwins\u001b[39;49m\u001b[38;5;124;43m\"\u001b[39;49m\u001b[43m]\u001b[49m\u001b[38;5;241m.\u001b[39msum(), group[\u001b[38;5;124m\"\u001b[39m\u001b[38;5;124mlosses\u001b[39m\u001b[38;5;124m\"\u001b[39m]\u001b[38;5;241m.\u001b[39msum()\n\u001b[0;32m     26\u001b[0m non_land_cards \u001b[38;5;241m=\u001b[39m [card \u001b[38;5;28;01mfor\u001b[39;00m card \u001b[38;5;129;01min\u001b[39;00m deck_list \u001b[38;5;28;01mif\u001b[39;00m \u001b[38;5;124m\"\u001b[39m\u001b[38;5;124mLand\u001b[39m\u001b[38;5;124m\"\u001b[39m \u001b[38;5;129;01mnot\u001b[39;00m \u001b[38;5;129;01min\u001b[39;00m card_df\u001b[38;5;241m.\u001b[39mloc[card, \u001b[38;5;124m\"\u001b[39m\u001b[38;5;124mtype_line\u001b[39m\u001b[38;5;124m\"\u001b[39m]]\n\u001b[0;32m     27\u001b[0m avg_mana_curve \u001b[38;5;241m=\u001b[39m \u001b[38;5;28msum\u001b[39m(card_df\u001b[38;5;241m.\u001b[39mloc[card, \u001b[38;5;124m\"\u001b[39m\u001b[38;5;124mcmc\u001b[39m\u001b[38;5;124m\"\u001b[39m] \u001b[38;5;28;01mfor\u001b[39;00m card \u001b[38;5;129;01min\u001b[39;00m non_land_cards \u001b[38;5;28;01mif\u001b[39;00m card \u001b[38;5;129;01min\u001b[39;00m card_df\u001b[38;5;241m.\u001b[39mindex) \u001b[38;5;241m/\u001b[39m \u001b[38;5;28mlen\u001b[39m(non_land_cards) \u001b[38;5;28;01mif\u001b[39;00m non_land_cards \u001b[38;5;28;01melse\u001b[39;00m \u001b[38;5;241m0\u001b[39m\n",
      "File \u001b[1;32mc:\\Users\\aaeam\\anaconda3\\envs\\win_c0c1\\Lib\\site-packages\\pandas\\core\\frame.py:4102\u001b[0m, in \u001b[0;36mDataFrame.__getitem__\u001b[1;34m(self, key)\u001b[0m\n\u001b[0;32m   4100\u001b[0m \u001b[38;5;28;01mif\u001b[39;00m \u001b[38;5;28mself\u001b[39m\u001b[38;5;241m.\u001b[39mcolumns\u001b[38;5;241m.\u001b[39mnlevels \u001b[38;5;241m>\u001b[39m \u001b[38;5;241m1\u001b[39m:\n\u001b[0;32m   4101\u001b[0m     \u001b[38;5;28;01mreturn\u001b[39;00m \u001b[38;5;28mself\u001b[39m\u001b[38;5;241m.\u001b[39m_getitem_multilevel(key)\n\u001b[1;32m-> 4102\u001b[0m indexer \u001b[38;5;241m=\u001b[39m \u001b[38;5;28;43mself\u001b[39;49m\u001b[38;5;241;43m.\u001b[39;49m\u001b[43mcolumns\u001b[49m\u001b[38;5;241;43m.\u001b[39;49m\u001b[43mget_loc\u001b[49m\u001b[43m(\u001b[49m\u001b[43mkey\u001b[49m\u001b[43m)\u001b[49m\n\u001b[0;32m   4103\u001b[0m \u001b[38;5;28;01mif\u001b[39;00m is_integer(indexer):\n\u001b[0;32m   4104\u001b[0m     indexer \u001b[38;5;241m=\u001b[39m [indexer]\n",
      "File \u001b[1;32mc:\\Users\\aaeam\\anaconda3\\envs\\win_c0c1\\Lib\\site-packages\\pandas\\core\\indexes\\base.py:3812\u001b[0m, in \u001b[0;36mIndex.get_loc\u001b[1;34m(self, key)\u001b[0m\n\u001b[0;32m   3807\u001b[0m     \u001b[38;5;28;01mif\u001b[39;00m \u001b[38;5;28misinstance\u001b[39m(casted_key, \u001b[38;5;28mslice\u001b[39m) \u001b[38;5;129;01mor\u001b[39;00m (\n\u001b[0;32m   3808\u001b[0m         \u001b[38;5;28misinstance\u001b[39m(casted_key, abc\u001b[38;5;241m.\u001b[39mIterable)\n\u001b[0;32m   3809\u001b[0m         \u001b[38;5;129;01mand\u001b[39;00m \u001b[38;5;28many\u001b[39m(\u001b[38;5;28misinstance\u001b[39m(x, \u001b[38;5;28mslice\u001b[39m) \u001b[38;5;28;01mfor\u001b[39;00m x \u001b[38;5;129;01min\u001b[39;00m casted_key)\n\u001b[0;32m   3810\u001b[0m     ):\n\u001b[0;32m   3811\u001b[0m         \u001b[38;5;28;01mraise\u001b[39;00m InvalidIndexError(key)\n\u001b[1;32m-> 3812\u001b[0m     \u001b[38;5;28;01mraise\u001b[39;00m \u001b[38;5;167;01mKeyError\u001b[39;00m(key) \u001b[38;5;28;01mfrom\u001b[39;00m \u001b[38;5;21;01merr\u001b[39;00m\n\u001b[0;32m   3813\u001b[0m \u001b[38;5;28;01mexcept\u001b[39;00m \u001b[38;5;167;01mTypeError\u001b[39;00m:\n\u001b[0;32m   3814\u001b[0m     \u001b[38;5;66;03m# If we have a listlike key, _check_indexing_error will raise\u001b[39;00m\n\u001b[0;32m   3815\u001b[0m     \u001b[38;5;66;03m#  InvalidIndexError. Otherwise we fall through and re-raise\u001b[39;00m\n\u001b[0;32m   3816\u001b[0m     \u001b[38;5;66;03m#  the TypeError.\u001b[39;00m\n\u001b[0;32m   3817\u001b[0m     \u001b[38;5;28mself\u001b[39m\u001b[38;5;241m.\u001b[39m_check_indexing_error(key)\n",
      "\u001b[1;31mKeyError\u001b[0m: 'wins'"
     ]
    }
   ],
   "source": [
    "# Step 4: Extract Card Types\n",
    "def get_card_types(card_df: pd.DataFrame) -> set:\n",
    "    \"\"\"Finds all distinct card types in the dataset.\"\"\"\n",
    "    return {type_line.split()[0] for type_line in card_df[\"type_line\"]}\n",
    "\n",
    "# Step 5: Compute Deck Data\n",
    "def generate_deck_data(draft_df: pd.DataFrame, card_df: pd.DataFrame, output_file: str, max_decks: int = None) -> None:\n",
    "    \"\"\"Aggregates deck performance data with an optional limit and saves it to a CSV file.\"\"\"\n",
    "    card_types = get_card_types(card_df)\n",
    "    #deck_columns = [\"deck_id\", \"wins\", \"losses\", \"avg_mana_curve\", \"bomb_density\", \"color_identity\"] + [f\"num_{ctype.lower()}\" for ctype in card_types]\n",
    "    \n",
    "    # Draft id from that DF just becomes \"deck_id\" in the final\n",
    "    grouped = draft_df.groupby(\"draft_id\")\n",
    "    deck_columns = [col for col in draft_df.columns if col.startswith(\"deck_\")]\n",
    "    deck_df = pd.DataFrame(columns=deck_columns)\n",
    "\n",
    "    for i, (deck_id, group) in enumerate(grouped):\n",
    "        if max_decks and i >= max_decks:\n",
    "            break  # Stop early if max_decks is reached\n",
    "        \n",
    "        # Get list of card names from relevant columns\n",
    "        deck_list = [col.replace(\"deck_\", \"\") for col in deck_columns if group[col].sum() > 0]\n",
    "\n",
    "        wins, losses = group[\"wins\"].sum(), group[\"losses\"].sum()\n",
    "\n",
    "        non_land_cards = [card for card in deck_list if \"Land\" not in card_df.loc[card, \"type_line\"]]\n",
    "        avg_mana_curve = sum(card_df.loc[card, \"cmc\"] for card in non_land_cards if card in card_df.index) / len(non_land_cards) if non_land_cards else 0\n",
    "        bomb_density = sum(1 for card in deck_list if card_df.loc[card, \"rarity\"] in [\"rare\", \"mythic\"]) / len(deck_list)\n",
    "        color_identity = list(set(color for card in deck_list for color in card_df.loc[card, \"color_identity\"]))\n",
    "        type_counts = {f\"num_{ctype.lower()}\": sum(1 for card in deck_list if ctype in card_df.loc[card, \"type_line\"]) for ctype in card_types}\n",
    "\n",
    "        deck_df.loc[len(deck_df)] = {**{\"deck_id\": deck_id, \"wins\": wins, \"losses\": losses, \"avg_mana_curve\": avg_mana_curve, \"bomb_density\": bomb_density, \"color_identity\": color_identity}, **type_counts}\n",
    "    deck_df.to_csv(output_file, index=False)\n",
    "    print(f\"Deck DataFrame created: {deck_df.shape[0]} rows, {deck_df.shape[1]} columns (Processed up to {max_decks} decks)\")\n",
    "\n",
    "\n",
    "generate_deck_data(draft_df, card_df, \"first_analysis.csv\", 2)\n"
   ]
  },
  {
   "cell_type": "code",
   "execution_count": null,
   "id": "cc01efed",
   "metadata": {},
   "outputs": [],
   "source": [
    "\n",
    "\n"
   ]
  },
  {
   "cell_type": "code",
   "execution_count": null,
   "id": "4fb4a00d",
   "metadata": {},
   "outputs": [],
   "source": []
  },
  {
   "cell_type": "markdown",
   "id": "e285a1c2",
   "metadata": {},
   "source": [
    "### 5/30 parquet and other work\n"
   ]
  },
  {
   "cell_type": "code",
   "execution_count": null,
   "id": "af68979b",
   "metadata": {},
   "outputs": [
    {
     "name": "stdout",
     "output_type": "stream",
     "text": [
      "Converted data/bloomburrow/games.csv to data/bloomburrow/games.parquet.\n"
     ]
    }
   ],
   "source": [
    "\n",
    "\n",
    "# Load your dataset (assuming it's a CSV)\n",
    "csv_file = \"data/bloomburrow/games.csv\"\n",
    "df = pd.read_csv(csv_file)\n",
    "\n",
    "# Save as Parquet (PyArrow format)\n",
    "parquet_file = \"data/bloomburrow/games.parquet\"\n",
    "df.to_parquet(parquet_file, engine=\"pyarrow\", compression=\"snappy\")  # Snappy is fast & efficient\n",
    "\n",
    "print(f\"Converted {csv_file} to {parquet_file}.\")\n"
   ]
  },
  {
   "cell_type": "code",
   "execution_count": null,
   "id": "85b9ccea",
   "metadata": {},
   "outputs": [],
   "source": [
    "# Load the Parquet file we just created\n",
    "parquet_filestr = \"data/bloomburrow/games.parquet\"\n",
    "\n",
    "if \"games_df\" not in globals():\n",
    "    games_df = pd.read_parquet(parquet_filestr, engine=\"pyarrow\")\n",
    "cards_df = pd.read_csv(\"data/bloomburrow/cards.csv\")\n"
   ]
  },
  {
   "cell_type": "code",
   "execution_count": null,
   "id": "e552f3d9",
   "metadata": {},
   "outputs": [
    {
     "name": "stdout",
     "output_type": "stream",
     "text": [
      "                           draft_id\n",
      "0  deaa4cdcd3e84d8e8b5a0ea34a0f9d79\n",
      "1  deaa4cdcd3e84d8e8b5a0ea34a0f9d79\n",
      "2  deaa4cdcd3e84d8e8b5a0ea34a0f9d79\n",
      "3  deaa4cdcd3e84d8e8b5a0ea34a0f9d79\n",
      "4  deaa4cdcd3e84d8e8b5a0ea34a0f9d79\n",
      "<class 'pandas.core.frame.DataFrame'>\n",
      "RangeIndex: 931230 entries, 0 to 931229\n",
      "Data columns (total 1 columns):\n",
      " #   Column    Non-Null Count   Dtype \n",
      "---  ------    --------------   ----- \n",
      " 0   draft_id  931230 non-null  object\n",
      "dtypes: object(1)\n",
      "memory usage: 7.1+ MB\n",
      "None\n"
     ]
    }
   ],
   "source": [
    "# Demonstrate columnar efficiency by reading only a specific column\n",
    "\n",
    "parquet_file = \"data/bloomburrow/games.parquet\"\n",
    "df = pd.read_parquet(parquet_file, columns=[\"draft_id\"], engine=\"pyarrow\")\n",
    "\n",
    "# Quick check: Print a few rows\n",
    "print(df.head())\n",
    "\n",
    "# Verify column type and memory usage\n",
    "print(df.info())"
   ]
  },
  {
   "cell_type": "code",
   "execution_count": 11,
   "id": "bbded7cb",
   "metadata": {},
   "outputs": [
    {
     "data": {
      "text/plain": [
       "Index(['object', 'id', 'oracle_id', 'multiverse_ids', 'mtgo_id', 'arena_id',\n",
       "       'tcgplayer_id', 'cardmarket_id', 'name', 'lang', 'released_at', 'uri',\n",
       "       'scryfall_uri', 'layout', 'highres_image', 'image_status', 'image_uris',\n",
       "       'mana_cost', 'cmc', 'type_line', 'oracle_text', 'colors',\n",
       "       'color_identity', 'keywords', 'legalities', 'games', 'reserved',\n",
       "       'game_changer', 'foil', 'nonfoil', 'finishes', 'oversized', 'promo',\n",
       "       'reprint', 'variation', 'set_id', 'set', 'set_name', 'set_type',\n",
       "       'set_uri', 'set_search_uri', 'scryfall_set_uri', 'rulings_uri',\n",
       "       'prints_search_uri', 'collector_number', 'digital', 'rarity',\n",
       "       'flavor_text', 'card_back_id', 'artist', 'artist_ids',\n",
       "       'illustration_id', 'border_color', 'frame', 'full_art', 'textless',\n",
       "       'booster', 'story_spotlight', 'edhrec_rank', 'penny_rank', 'preview',\n",
       "       'prices', 'related_uris', 'purchase_uris', 'power', 'toughness',\n",
       "       'all_parts', 'security_stamp', 'promo_types', 'frame_effects',\n",
       "       'produced_mana'],\n",
       "      dtype='object')"
      ]
     },
     "execution_count": 11,
     "metadata": {},
     "output_type": "execute_result"
    }
   ],
   "source": [
    "cards_df.columns"
   ]
  },
  {
   "cell_type": "code",
   "execution_count": null,
   "id": "3462f29b",
   "metadata": {},
   "outputs": [
    {
     "name": "stdout",
     "output_type": "stream",
     "text": [
      "\n",
      "Analyzing data for draft_id: deaa4cdcd3e84d8e8b5a0ea34a0f9d79\n",
      "\n",
      "--- Draft Performance for deaa4cdcd3e84d8e8b5a0ea34a0f9d79 ---\n",
      "Event Record: 6-3\n",
      "Win Rate: 66.67%\n",
      "\n",
      "--- Raw Decklist ---\n",
      "{'Bakersbane Duo': 1, 'Cache Grab': 2, 'Camellia, the Seedmiser': 1, 'Cindering Cutthroat': 1, 'Daggerfang Duo': 1, 'Downwind Ambusher': 1, 'Druid of the Spade': 1, 'Forest': 9, 'Glidedive Duo': 1, 'Hazardroot Herbalist': 1, \"Hazel's Nocturne\": 1, 'Head of the Homestead': 1, 'Longstalk Brawl': 1, 'Overprotect': 1, 'Polliwallop': 1, 'Savor': 2, 'Swamp': 8, 'Tangle Tumbler': 1, 'Tender Wildguide': 1, 'Thought-Stalker Warlock': 1, 'Three Tree Rootweaver': 2, 'Ygra, Eater of All': 1}\n"
     ]
    }
   ],
   "source": [
    "decklist_raw = analyze_first_full_draft(games_df)\n",
    "print(\"\\n--- Raw Decklist ---\")\n",
    "print(decklist_raw)"
   ]
  },
  {
   "cell_type": "code",
   "execution_count": 18,
   "id": "e4dbdaa6",
   "metadata": {},
   "outputs": [
    {
     "name": "stdout",
     "output_type": "stream",
     "text": [
      "\n",
      "--- Enhanced Deck Analysis ---\n",
      "Average Mana Value: 1.68\n",
      "Total Creatures: 14\n",
      "                       name  count  cmc                              type_line\n",
      "0            Bakersbane Duo      1  2.0            Creature — Squirrel Raccoon\n",
      "1                Cache Grab      2  2.0                                Instant\n",
      "2   Camellia, the Seedmiser      1  3.0  Legendary Creature — Squirrel Warlock\n",
      "3       Cindering Cutthroat      1  3.0             Creature — Lizard Assassin\n",
      "4            Daggerfang Duo      1  3.0                Creature — Rat Squirrel\n",
      "5         Downwind Ambusher      1  4.0              Creature — Skunk Assassin\n",
      "6        Druid of the Spade      1  3.0                Creature — Rabbit Druid\n",
      "7                    Forest      9  0.0                    Basic Land — Forest\n",
      "8             Glidedive Duo      1  5.0                  Creature — Bat Lizard\n",
      "9      Hazardroot Herbalist      1  3.0                Creature — Rabbit Druid\n",
      "10         Hazel's Nocturne      1  4.0                                Instant\n",
      "11    Head of the Homestead      1  5.0              Creature — Rabbit Citizen\n",
      "12          Longstalk Brawl      1  1.0                                Sorcery\n",
      "13              Overprotect      1  2.0                                Instant\n",
      "14              Polliwallop      1  4.0                                Instant\n",
      "15                    Savor      2  2.0                                Instant\n",
      "16                    Swamp      8  0.0                     Basic Land — Swamp\n",
      "17           Tangle Tumbler      1  3.0                     Artifact — Vehicle\n",
      "18         Tender Wildguide      1  2.0                Creature — Possum Druid\n",
      "19  Thought-Stalker Warlock      1  3.0              Creature — Lizard Warlock\n",
      "20    Three Tree Rootweaver      2  2.0                  Creature — Mole Druid\n",
      "21       Ygra, Eater of All      1  5.0     Legendary Creature — Elemental Cat\n"
     ]
    }
   ],
   "source": [
    "# Convert decklist dictionary to DataFrame\n",
    "decklist_df = pd.DataFrame(decklist_raw.items(), columns=[\"name\", \"count\"])\n",
    "\n",
    "# Merge with Scryfall card data\n",
    "decklist_enriched = decklist_df.merge(cards_df[[\"name\", \"cmc\", \"type_line\"]], on=\"name\", how=\"left\")\n",
    "\n",
    "# Compute basic deck stats\n",
    "avg_mana_value = (decklist_enriched[\"cmc\"] * decklist_enriched[\"count\"]).sum() / decklist_enriched[\"count\"].sum()\n",
    "num_creatures = decklist_enriched[decklist_enriched[\"type_line\"].str.contains(\"Creature\", na=False)][\"count\"].sum()\n",
    "\n",
    "# Display enriched decklist with stats\n",
    "print(f\"\\n--- Enhanced Deck Analysis ---\")\n",
    "print(f\"Average Mana Value: {avg_mana_value:.2f}\")\n",
    "print(f\"Total Creatures: {num_creatures}\")\n",
    "print(decklist_enriched[[\"name\", \"count\", \"cmc\", \"type_line\"]])\n"
   ]
  }
 ],
 "metadata": {
  "kernelspec": {
   "display_name": "win_c0c1",
   "language": "python",
   "name": "python3"
  },
  "language_info": {
   "codemirror_mode": {
    "name": "ipython",
    "version": 3
   },
   "file_extension": ".py",
   "mimetype": "text/x-python",
   "name": "python",
   "nbconvert_exporter": "python",
   "pygments_lexer": "ipython3",
   "version": "3.12.4"
  }
 },
 "nbformat": 4,
 "nbformat_minor": 5
}
