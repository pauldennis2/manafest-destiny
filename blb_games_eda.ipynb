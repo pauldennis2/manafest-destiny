{
 "cells": [
  {
   "cell_type": "markdown",
   "id": "b4c99797",
   "metadata": {},
   "source": [
    "## BLB Games EDA\n",
    "\n",
    "This notebook will explore the characteristics of the games data, independent of any deck analysis or card information. Quick questions like - how many total drafts are represented? How many are incomplete (don't get to 7 wins or 3 losses)."
   ]
  },
  {
   "cell_type": "code",
   "execution_count": null,
   "id": "9e3261c5",
   "metadata": {},
   "outputs": [
    {
     "name": "stdout",
     "output_type": "stream",
     "text": [
      "Reading and converting data for blb to Feather...\n",
      "Converting data/blb/games.csv to data/blb/games.feather...\n"
     ]
    }
   ],
   "source": [
    "#Imports\n",
    "import pandas as pd\n",
    "from scripts import get_games_data\n",
    "\n",
    "games_df = get_games_data('blb')\n",
    "\n",
    "games_df.head(2)"
   ]
  }
 ],
 "metadata": {
  "kernelspec": {
   "display_name": "basic_env",
   "language": "python",
   "name": "python3"
  },
  "language_info": {
   "codemirror_mode": {
    "name": "ipython",
    "version": 3
   },
   "file_extension": ".py",
   "mimetype": "text/x-python",
   "name": "python",
   "nbconvert_exporter": "python",
   "pygments_lexer": "ipython3",
   "version": "3.12.9"
  }
 },
 "nbformat": 4,
 "nbformat_minor": 5
}
